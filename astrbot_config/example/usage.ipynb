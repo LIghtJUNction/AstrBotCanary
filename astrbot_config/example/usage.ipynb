{
 "cells": [
  {
   "cell_type": "code",
   "execution_count": 1,
   "id": "dea35dbf",
   "metadata": {},
   "outputs": [
    {
     "name": "stdout",
     "output_type": "stream",
     "text": [
      "name='new_name67' value=42 sub_config=SubConfigExample(detail='default_detail', enabled=True)\n",
      "name='new_name28' value=42 sub_config=SubConfigExample(detail='default_detail', enabled=True)\n"
     ]
    }
   ],
   "source": [
    "from pathlib import Path\n",
    "from random import randint\n",
    "from pydantic import BaseModel\n",
    "from astrbot_config import AstrbotConfigEntry\n",
    "\n",
    "\n",
    "class SubConfigExample(BaseModel):\n",
    "    detail: str\n",
    "    enabled: bool\n",
    "\n",
    "class ConfigExample(BaseModel):\n",
    "    name: str\n",
    "    value: int\n",
    "    sub_config: SubConfigExample\n",
    "\n",
    "AstrbotConfigEntry[ConfigExample].model_rebuild()\n",
    "\n",
    "cfg = AstrbotConfigEntry[ConfigExample].bind(\n",
    "    group = \"A\",\n",
    "    name = \"example_config\",\n",
    "    default = ConfigExample(\n",
    "        name=\"default_name\",\n",
    "        value=42,\n",
    "        sub_config=SubConfigExample(\n",
    "            detail=\"default_detail\",\n",
    "            enabled=True\n",
    "        )\n",
    "    ),\n",
    "    description = \"An example configuration entry for demonstration purposes.\",\n",
    "    cfg_dir = Path.cwd() / \"config_examples\"\n",
    ")\n",
    "\n",
    "\n",
    "# print(cfg.load())  # Load the configuration from file or use default\n",
    "print(cfg.value)  # Access the current configuration value\n",
    "\n",
    "cfg.value.name = \"new_name\" + str(randint(1, 100))  # Modify the configuration\n",
    "\n",
    "cfg.save()  # Save the updated configuration back to file\n",
    "\n",
    "print(cfg.value)  # Verify the saved configuration\n"
   ]
  },
  {
   "cell_type": "markdown",
   "id": "b1adb7d6",
   "metadata": {},
   "source": [
    "# 密钥"
   ]
  },
  {
   "cell_type": "code",
   "execution_count": null,
   "id": "7953323d",
   "metadata": {},
   "outputs": [],
   "source": [
    "import importlib\n",
    "import astrbot_config.config\n",
    "importlib.reload(astrbot_config.config)"
   ]
  },
  {
   "cell_type": "code",
   "execution_count": null,
   "id": "08cd1e2b",
   "metadata": {},
   "outputs": [],
   "source": [
    "# 展示密钥安全保存\n",
    "from pathlib import Path\n",
    "from astrbot_config import AstrbotSecretKey,AstrbotConfigEntry\n",
    "\n",
    "from astrbot_canary_api import IAstrbotConfigEntry\n",
    "from pydantic import BaseModel, Field\n",
    "\n",
    "class ModelConfig(BaseModel):\n",
    "    base_url: str = \"xxx\"\n",
    "    api_key: AstrbotSecretKey = Field(default_factory=lambda: AstrbotSecretKey(key_name=\"gpt5-api-key\"))\n",
    "\n",
    "\n",
    "cfg_api_key: IAstrbotConfigEntry[ModelConfig] = AstrbotConfigEntry[ModelConfig].bind(\n",
    "    group=\"A\",\n",
    "    name=\"api_key\",\n",
    "    default=ModelConfig(),\n",
    "    description=\"\",\n",
    "    cfg_dir =Path().cwd() / \"config_examples\"\n",
    ")\n",
    "\n",
    "# 直接打印，不会泄露实际的key\n",
    "print(cfg_api_key.value.api_key)\n",
    "cfg_api_key.save()\n",
    "\n",
    "# 这里模拟CLI程序设置secret\n",
    "\n",
    "# 记得保存save() 不然下次启动无法自动加载\n",
    "# 请勿像这里一样硬编码！\n",
    "cfg_api_key.value.api_key.secret = \"sk-d4a5d4a54dccad5...\"\n",
    "cfg_api_key.save()\n",
    "# \n",
    "# 建议with语句读取密钥 好吧基本只能这样获取\n",
    "async with cfg_api_key.value.api_key.actx() as s:\n",
    "    print(s)\n",
    "\n",
    "with cfg_api_key.value.api_key.ctx() as s:\n",
    "    print(s)\n",
    "\n",
    "\n",
    "print(\"*\"*10)\n",
    "print(cfg_api_key.value.api_key)\n",
    "# print(cfg_api_key.value.api_key.secret) 这里会警告不要直接访问secret属性\n",
    "print(cfg_api_key.value.api_key)"
   ]
  },
  {
   "cell_type": "code",
   "execution_count": null,
   "id": "bbef2b2f",
   "metadata": {},
   "outputs": [],
   "source": [
    "# 检查密钥库，删掉刚刚测试的密钥\n",
    "import keyring\n",
    "\n",
    "# 删除当前使用的密钥\n",
    "try:\n",
    "    keyring.delete_password(\"astrbot\", \"@astrbot:gpt5-api-key\")\n",
    "    print(\"已删除密钥: astrbot / @astrbot:gpt5-api-key\")\n",
    "except Exception as e:\n",
    "    print(f\"删除失败，可能不存在: {e}\")\n",
    "\n",
    "# 注意：keyring 库不支持按服务名批量删除密钥\n",
    "# 每个密钥需要具体的 service 和 key_id\n",
    "# 之前的测试使用了随机 UUID 作为 key_id，无法自动识别\n",
    "\n",
    "# 手动清理所有 astrbot 相关的密钥（Windows 示例）\n",
    "# 在 Windows 上：\n",
    "# 1. 搜索 \"Credential Manager\" 打开凭据管理器\n",
    "# 2. 转到 \"Windows Credentials\"\n",
    "# 3. 查找以 \"astrbot\" 开头的凭据，删除它们\n",
    "# 或者使用命令行： rundll32.exe keymgr.dll, KRShowKeyMgr\n",
    "\n",
    "print(\"请手动清理系统密钥库中的所有 'astrbot' 相关凭据。keyring 不支持按服务名批量删除。\")"
   ]
  }
 ],
 "metadata": {
  "kernelspec": {
   "display_name": "astrbot-canary (3.13.8)",
   "language": "python",
   "name": "python3"
  },
  "language_info": {
   "codemirror_mode": {
    "name": "ipython",
    "version": 3
   },
   "file_extension": ".py",
   "mimetype": "text/x-python",
   "name": "python",
   "nbconvert_exporter": "python",
   "pygments_lexer": "ipython3",
   "version": "3.13.8"
  }
 },
 "nbformat": 4,
 "nbformat_minor": 5
}
