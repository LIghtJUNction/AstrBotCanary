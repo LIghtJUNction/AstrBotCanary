{
 "cells": [
  {
   "cell_type": "code",
   "execution_count": null,
   "id": "dea35dbf",
   "metadata": {},
   "outputs": [
    {
     "name": "stdout",
     "output_type": "stream",
     "text": [
      "name='new_name18' value=42 sub_config=SubConfigExample(detail='default_detail', enabled=True)\n",
      "name='new_name75' value=42 sub_config=SubConfigExample(detail='default_detail', enabled=True)\n"
     ]
    }
   ],
   "source": [
    "\n",
    "from pathlib import Path\n",
    "from random import randint\n",
    "from pydantic import BaseModel\n",
    "from astrbot_config import AstrbotConfigEntry\n",
    "\n",
    "\n",
    "class SubConfigExample(BaseModel):\n",
    "    detail: str\n",
    "    enabled: bool\n",
    "\n",
    "class ConfigExample(BaseModel):\n",
    "    name: str\n",
    "    value: int\n",
    "    sub_config: SubConfigExample\n",
    "\n",
    "\n",
    "cfg = AstrbotConfigEntry[ConfigExample].bind(\n",
    "    group = \"A\",\n",
    "    name = \"example_config\",\n",
    "    default = ConfigExample(\n",
    "        name=\"default_name\",\n",
    "        value=42,\n",
    "        sub_config=SubConfigExample(\n",
    "            detail=\"default_detail\",\n",
    "            enabled=True\n",
    "        )\n",
    "    ),\n",
    "    description = \"An example configuration entry for demonstration purposes.\",\n",
    "    cfg_dir = Path.cwd() / \"config_examples\"\n",
    ")\n",
    "\n",
    "\n",
    "# print(cfg.load())  # Load the configuration from file or use default\n",
    "print(cfg.value)  # Access the current configuration value\n",
    "\n",
    "cfg.value.name = \"new_name\" + str(randint(1, 100))  # Modify the configuration\n",
    "\n",
    "cfg.save()  # Save the updated configuration back to file\n",
    "\n",
    "print(cfg.value)  # Verify the saved configuration\n"
   ]
  }
 ],
 "metadata": {
  "kernelspec": {
   "display_name": "astrbot-canary (3.13.8)",
   "language": "python",
   "name": "python3"
  },
  "language_info": {
   "codemirror_mode": {
    "name": "ipython",
    "version": 3
   },
   "file_extension": ".py",
   "mimetype": "text/x-python",
   "name": "python",
   "nbconvert_exporter": "python",
   "pygments_lexer": "ipython3",
   "version": "3.13.8"
  }
 },
 "nbformat": 4,
 "nbformat_minor": 5
}
