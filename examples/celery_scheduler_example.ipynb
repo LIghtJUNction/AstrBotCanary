{
 "cells": [
  {
   "cell_type": "markdown",
   "id": "8d9b30b3",
   "metadata": {},
   "source": [
    "# CeleryTaskScheduler 示例（在 Jupyter 中运行）\n",
    "\n",
    "本 Notebook 演示如何在 Jupyter 中直接导入并使用项目封装的 `CeleryTaskScheduler`。\n",
    "\n",
    "注意：跨进程（worker + broker）演示是可选的。为了方便在单机或没有 broker 的环境下快速试验，下面提供了“内存 / eager”演示配置，使用该配置无需外部 broker 或单独 worker。"
   ]
  },
  {
   "cell_type": "markdown",
   "id": "31a4317c",
   "metadata": {},
   "source": [
    "## 运行指南（可选：跨进程 或 内存/eager 演示）\n",
    "\n",
    "1) 跨进程（broker + worker，生产或分布式测试）：\n",
    "\n",
    "- 使用 RabbitMQ：可本地安装或用 Docker 启动 rabbitmq:3-management。\n",
    "- 启动 worker（在包含任务定义模块的目录）：\n",
    "\n",
    "```bash\n",
    "# 激活 venv 后\n",
    "celery -A examples.celery_tasks worker --loglevel=info\n",
    "```\n",
    "\n",
    "2) 内存 / eager 演示（单进程，适合 notebook 和快速开发）：\n",
    "\n",
    "- 在 Notebook 中将 Celery 配置为 eager 模式即可在当前进程同步执行任务，无需外部 broker 或 worker。\n",
    "- 示例：\n",
    "```python\n",
    "# 在 notebook 中配置 examples.celery_tasks.app 为 eager（演示/测试用途）\n",
    "examples_tasks.app.conf.update(\n",
    "    task_always_eager=True,\n",
    "    task_eager_propagates=True,  # 让异常在调用端抛出，便于调试\n",
    ")\n",
    "```\n",
    "\n",
    "- 内存演示注意事项：eager 模式会在当前进程中直接运行任务，因此适合演示与单进程测试，但不能模拟真实的分布式环境（例如任务路由、并发 worker 行为等）。"
   ]
  },
  {
   "cell_type": "code",
   "execution_count": 47,
   "id": "45e105ab",
   "metadata": {},
   "outputs": [
    {
     "name": "stdout",
     "output_type": "stream",
     "text": [
      "installed (or already present)\n"
     ]
    }
   ],
   "source": [
    "# 安装依赖（若未安装）\n",
    "# 在 notebook 内可通过 !pip 安装，但建议在 venv 中提前安装\n",
    "!uv pip install -q celery anyio\n",
    "print('installed (or already present)')"
   ]
  },
  {
   "cell_type": "code",
   "execution_count": 48,
   "id": "753b1897",
   "metadata": {},
   "outputs": [
    {
     "name": "stdout",
     "output_type": "stream",
     "text": [
      "Imported CeleryTaskScheduler\n",
      "Loaded examples.celery_tasks from file\n",
      "has app: True\n",
      "has hello: True\n"
     ]
    }
   ],
   "source": [
    "# 在笔记本中导入并验证 astrbot_canary_api（使用封装的调度器）\n",
    "try:\n",
    "    from astrbot_canary_api.scheduler import CeleryTaskScheduler\n",
    "    print('Imported CeleryTaskScheduler')\n",
    "except Exception as e:\n",
    "    print('Import failed:', e)\n",
    "    raise\n",
    "\n",
    "# 尝试导入 examples.celery_tasks（任务定义）\n",
    "import importlib, pathlib\n",
    "try:\n",
    "    examples_tasks = importlib.import_module('examples.celery_tasks')\n",
    "    print('Loaded examples.celery_tasks as module')\n",
    "except Exception:\n",
    "    # fallback: load from file\n",
    "    spec_path = pathlib.Path.cwd() / 'celery_tasks.py'\n",
    "    import importlib.util\n",
    "    spec = importlib.util.spec_from_file_location('examples.celery_tasks', str(spec_path))\n",
    "    mod = importlib.util.module_from_spec(spec)\n",
    "    spec.loader.exec_module(mod)  # type: ignore[attr-defined]\n",
    "    examples_tasks = mod\n",
    "    print('Loaded examples.celery_tasks from file')\n",
    "\n",
    "# verify the module provides an app and a task named 'hello'\n",
    "print('has app:', hasattr(examples_tasks, 'app'))\n",
    "print('has hello:', hasattr(examples_tasks, 'hello'))\n"
   ]
  },
  {
   "cell_type": "code",
   "execution_count": 49,
   "id": "f08aa986",
   "metadata": {},
   "outputs": [
    {
     "name": "stdout",
     "output_type": "stream",
     "text": [
      "Celery configured for eager (in-process) execution\n",
      "--- apply_async (task object) ---\n",
      "apply_async id: 365aa4c2-cce9-4384-81cc-4f57111055dc\n",
      "apply_async ready?: True\n",
      "apply_async result: hello notebook-user\n"
     ]
    }
   ],
   "source": [
    "# 为演示：把 Celery 配为 eager（内存/同步）模式，这样 notebook 不需要外部 broker\n",
    "# 注意：eager 模式会在当前进程中直接执行任务，适合演示和单进程测试\n",
    "examples_tasks.app.conf.update(\n",
    "    task_always_eager=True,\n",
    "    task_eager_propagates=True,  # 让异常在调用端抛出，便于调试\n",
    ")\n",
    "print('Celery configured for eager (in-process) execution')\n",
    "\n",
    "# 同步示例：优先使用任务对象的 apply_async 或直接调用（在 eager 下更可靠）\n",
    "from astrbot_canary_api.scheduler import CeleryTaskScheduler\n",
    "sched = CeleryTaskScheduler(app=examples_tasks.app)\n",
    "\n",
    "# 1) 使用任务对象的 apply_async（在 eager 下会同步执行）\n",
    "print('--- apply_async (task object) ---')\n",
    "try:\n",
    "    handle_apply = sched.apply_async(examples_tasks.hello, args=('notebook-user',))\n",
    "    print('apply_async id:', handle_apply.id())\n",
    "    print('apply_async ready?:', handle_apply.ready())\n",
    "    print('apply_async result:', handle_apply.get(timeout=5))\n",
    "except Exception as e:\n",
    "    print('apply_async failed:', type(e), e)\n"
   ]
  },
  {
   "cell_type": "code",
   "execution_count": 50,
   "id": "d0caf3c8",
   "metadata": {},
   "outputs": [
    {
     "name": "stdout",
     "output_type": "stream",
     "text": [
      "async submitted id: fb894a50-d966-4495-a621-0254b5828b10\n"
     ]
    },
    {
     "name": "stderr",
     "output_type": "stream",
     "text": [
      "C:\\Users\\light\\Documents\\GitHub\\AstrBotCanary\\astrbot_modules\\astrbot_canary_api\\src\\astrbot_canary_api\\scheduler.py:84: AlwaysEagerIgnored: task_always_eager has no effect on send_task\n",
      "  ar = self.app.send_task(func, args=args, kwargs=kwargs, queue=queue)  # type: ignore[attr-defined]\n"
     ]
    },
    {
     "name": "stdout",
     "output_type": "stream",
     "text": [
      "async_example failed: <class 'celery.exceptions.TimeoutError'> The operation timed out.\n"
     ]
    }
   ],
   "source": [
    "# 异步示例：在 Jupyter 中使用顶层 await (兼容 eager / 非-eager)\n",
    "from astrbot_canary_api.scheduler import CeleryTaskScheduler\n",
    "\n",
    "# 在 notebook 顶层创建 scheduler，避免在每次调用中重复创建\n",
    "sched = CeleryTaskScheduler(app=examples_tasks.app)\n",
    "\n",
    "async def async_example():\n",
    "    try:\n",
    "        # 方法 A: 通过任务名提交（registered_only=False 允许按名称查找注册任务）\n",
    "        handle = await sched.async_apply_async('examples.hello', args=('async-notebook',), registered_only=False)\n",
    "        # 方法 B (等价)：\n",
    "        # handle = await sched.async_send_task('examples.hello', args=('async-notebook',))\n",
    "\n",
    "        print('async submitted id:', handle.id())\n",
    "\n",
    "        # 如果句柄已经就绪（eager / in-memory 情况），优先直接取结果以避免等待后端\n",
    "        ready = False\n",
    "        try:\n",
    "            ready = bool(handle.ready())\n",
    "        except Exception:\n",
    "            # 某些实现可能没有 ready(); 忽略并使用 async_get_result 作为后备\n",
    "            ready = False\n",
    "\n",
    "        if ready:\n",
    "            # 直接取（在 InMemoryResultHandle 中会立即返回）\n",
    "            result = handle.get()\n",
    "            print('async got result (ready):', result)\n",
    "            return\n",
    "\n",
    "        # 否则走异步等待路径（会在后台线程中调用 get，避免阻塞事件循环）\n",
    "        result = await sched.async_get_result(handle.id(), timeout=10)\n",
    "        print('async got result:', result)\n",
    "\n",
    "    except Exception as e:\n",
    "        # 在 eager 模式下若 task_eager_propagates=True，异常会直接在这里抛出并被捕获\n",
    "        print('async_example failed:', type(e), e)\n",
    "\n",
    "# Jupyter 支持顶层 await；直接 await 可避免 'Already running asyncio' 问题\n",
    "await async_example()\n"
   ]
  },
  {
   "cell_type": "markdown",
   "id": "170cba56",
   "metadata": {},
   "source": [
    "## 故障排查 & 小贴士\n",
    "\n",
    "- 如果看到 `Unknown task` 错误：确认 worker 已加载包含任务定义的模块（启动 worker 时的工作目录与 PYTHONPATH）。\n",
    "- 若无法获取结果：检查 Celery 的 `backend` 配置（需要设置 result backend 才能使用 AsyncResult.get）。\n",
    "- 在 VS Code 中，确保 Notebook kernel 使用的是与启动 worker 相同的虚拟环境（否则导入路径或依赖可能不一致）。\n",
    "\n",
    "常用命令复习：\n",
    "\n",
    "```bash\n",
    "# 启动 worker（在项目根，确保 examples/celery_tasks.py 在 path 中）\n",
    "celery -A examples.celery_tasks worker --loglevel=info\n",
    "\n",
    "# 如果使用 redis:\n",
    "celery -A examples.celery_tasks worker --broker=redis://localhost:6379/0 --loglevel=info\n",
    "```\n"
   ]
  }
 ],
 "metadata": {
  "kernelspec": {
   "display_name": "astrbot-canary (3.13.8)",
   "language": "python",
   "name": "python3"
  },
  "language_info": {
   "codemirror_mode": {
    "name": "ipython",
    "version": 3
   },
   "file_extension": ".py",
   "mimetype": "text/x-python",
   "name": "python",
   "nbconvert_exporter": "python",
   "pygments_lexer": "ipython3",
   "version": "3.13.8"
  }
 },
 "nbformat": 4,
 "nbformat_minor": 5
}
