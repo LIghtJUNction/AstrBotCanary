{
 "cells": [
  {
   "cell_type": "markdown",
   "id": "43a305e9",
   "metadata": {},
   "source": [
    "# Run Msgbus Demo (Notebook)\n",
    "\n",
    "这个 notebook 将发送一条消息到 `memory://astrbot` 然后接收并打印结果。逐个运行代码单元。"
   ]
  },
  {
   "cell_type": "code",
   "execution_count": null,
   "id": "48192f28",
   "metadata": {},
   "outputs": [
    {
     "name": "stdout",
     "output_type": "stream",
     "text": [
      "imports ok\n"
     ]
    }
   ],
   "source": [
    "from kombu import Queue # type: ignore\n",
    "from astrbot_canary_api.msgbus import AstrbotMessageBus\n",
    "\n",
    "print('imports ok')"
   ]
  },
  {
   "cell_type": "code",
   "execution_count": null,
   "id": "d072cb81",
   "metadata": {},
   "outputs": [],
   "source": [
    "async def main() -> None:\n",
    "    try:\n",
    "        AstrbotMessageBus.resetBus()\n",
    "        bus = AstrbotMessageBus.getBus('memory://astrbot')\n",
    "\n",
    "        q = Queue('demo_test', bus.exchange, routing_key='demo_test')\n",
    "\n",
    "        print('[demo] sending...')\n",
    "        await bus.async_send({'msg': 'hello demo'}, exchange=bus.exchange, routing_key='demo_test', declare=[q])\n",
    "\n",
    "        print('[demo] receiving (timeout=2s)...')\n",
    "        got = await bus.async_receive_once('demo_test', timeout=2.0)\n",
    "        print('[demo] received:', got)\n",
    "\n",
    "    except Exception as e:\n",
    "        print('[demo] error:', type(e).__name__, e)\n",
    "    finally:\n",
    "        AstrbotMessageBus.resetBus()"
   ]
  },
  {
   "cell_type": "code",
   "execution_count": null,
   "id": "1c551fe9",
   "metadata": {},
   "outputs": [
    {
     "name": "stdout",
     "output_type": "stream",
     "text": [
      "[demo] sending...\n",
      "[demo] receiving (timeout=2s)...\n",
      "[demo] received: {'msg': 'hello demo'}\n"
     ]
    }
   ],
   "source": [
    "\n",
    "await main()\n"
   ]
  },
  {
   "cell_type": "markdown",
   "id": "8e094c96",
   "metadata": {},
   "source": [
    "# 拆分细讲"
   ]
  },
  {
   "cell_type": "markdown",
   "id": "1f6d4ef9",
   "metadata": {},
   "source": [
    "## 说明（概览）\n",
    "下面我们把演示拆成几个步骤：初始化消息总线、声明队列/交换机、发送消息、接收消息、以及使用异步迭代逐条消费并最终清理资源。每个代码单元都可以单独运行。"
   ]
  },
  {
   "cell_type": "code",
   "execution_count": null,
   "id": "434283b3",
   "metadata": {},
   "outputs": [
    {
     "name": "stdout",
     "output_type": "stream",
     "text": [
      "bus initialized -> <astrbot_canary_api.msgbus.AstrbotMessageBus object at 0x0000027979CB8AD0> queue -> demo_test\n"
     ]
    }
   ],
   "source": [
    "# 1) 初始化：重置并创建一个 memory://astrbot 总线实例，声明一个 Queue 与 exchange\n",
    "from kombu import Queue  # type: ignore\n",
    "from astrbot_canary_api.msgbus import AstrbotMessageBus\n",
    "\n",
    "# 重置全局单例（安全起见）\n",
    "AstrbotMessageBus.resetBus()\n",
    "bus = AstrbotMessageBus.getBus('memory://astrbot')\n",
    "q = Queue('demo_test', bus.exchange, routing_key='demo_test')\n",
    "\n",
    "print('bus initialized ->', bus, 'queue ->', q.name)"
   ]
  },
  {
   "cell_type": "markdown",
   "id": "9e892aa2",
   "metadata": {},
   "source": [
    "## 应用场景示例：点对点（Point-to-Point）\n",
    "场景：任务队列，生产者把任务放到队列，只有一个消费者会处理每条任务（竞争消费者）。下面示例演示发送端和接收端的最简交互（在 notebook 中可以分别运行发送与接收单元）。"
   ]
  },
  {
   "cell_type": "code",
   "execution_count": null,
   "id": "249ffa13",
   "metadata": {},
   "outputs": [],
   "source": [
    "# P2P - 发送（运行此单元发送一条任务）\n",
    "await bus.async_send({'task':'process_image','id':101}, exchange=bus.exchange, routing_key='tasks', declare=[Queue('tasks', bus.exchange, routing_key='tasks')])\n",
    "print('sent task 101')"
   ]
  },
  {
   "cell_type": "code",
   "execution_count": null,
   "id": "f7bff347",
   "metadata": {},
   "outputs": [],
   "source": [
    "# P2P - 接收（运行此单元拉取一条任务）\n",
    "got = await bus.async_receive_once('tasks', timeout=2.0)\n",
    "print('got task ->', got)"
   ]
  },
  {
   "cell_type": "markdown",
   "id": "0bf34842",
   "metadata": {},
   "source": [
    "## 应用场景示例：广播（Broadcast / Fanout）与组播（Multicast / Topic）\n",
    "示例说明：广播使用 fanout 把消息发给所有绑定队列；组播（topic）允许基于 routing_key 模式选择性分发。"
   ]
  },
  {
   "cell_type": "code",
   "execution_count": null,
   "id": "7f4bd537",
   "metadata": {},
   "outputs": [],
   "source": [
    "# 广播示例（fanout） - 发送（广播给所有绑定队列）\n",
    "from kombu import Exchange, Queue \n",
    "exch_f = Exchange('broadcasts', type='fanout')\n",
    "# 发送（忽略 routing_key）\n",
    "await bus.async_send({'notice':'maintenance'}, exchange=exch_f, routing_key='', declare=[Queue('svcA-notify', exch_f), Queue('svcB-notify', exch_f)])\n",
    "print('broadcast sent')"
   ]
  },
  {
   "cell_type": "code",
   "execution_count": null,
   "id": "a684a9a3",
   "metadata": {},
   "outputs": [],
   "source": [
    "# 组播示例（topic） - 发送与订阅示例\n",
    "exch_t = Exchange('events', type='topic')\n",
    "# 发送特定主题事件\n",
    "await bus.async_send({'user_id':42}, exchange=exch_t, routing_key='user.created', declare=[Queue('user-events', exch_t, routing_key='user.*')])\n",
    "print('topic event sent')"
   ]
  },
  {
   "cell_type": "markdown",
   "id": "398a62db",
   "metadata": {},
   "source": [
    "## 交换机（Exchange）和 routing_key 详解\n",
    "Exchange 是路由器：生产者把消息发到交换机，交换机会根据类型（direct/topic/fanout）和 routing_key/绑定规则把消息分发给匹配的队列。routing_key 是消息携带的键，用来匹配绑定规则。"
   ]
  },
  {
   "cell_type": "code",
   "execution_count": null,
   "id": "227eb33c",
   "metadata": {},
   "outputs": [],
   "source": [
    "# 示例：创建 direct exchange 并发送到特定 routing_key\n",
    "exch_d = Exchange('astrbot', type='direct')\n",
    "await bus.async_send({'hello':'direct'}, exchange=exch_d, routing_key='demo_test', declare=[Queue('demo_test', exch_d, routing_key='demo_test')])\n",
    "print('direct example sent')"
   ]
  },
  {
   "cell_type": "markdown",
   "id": "f7b8e632",
   "metadata": {},
   "source": [
    "## declare：为什么要显式声明（declare）\n",
    "declare 确保在发送或消费前，Exchange/Queue/Binding 已在 broker（或内存传输）中存在：在 memory://astrbot 场景下尤其重要，发送方和接收方都需要 declare 相同的 Queue/Exchange 才能互通。"
   ]
  },
  {
   "cell_type": "code",
   "execution_count": null,
   "id": "c4584852",
   "metadata": {},
   "outputs": [],
   "source": [
    "# declare 示例：发送方在发送前声明队列/交换机（即便接收方尚未启动）\n",
    "qtemp = Queue('temp', bus.exchange, routing_key='temp')\n",
    "await bus.async_send({'x':1}, exchange=bus.exchange, routing_key='temp', declare=[qtemp])\n",
    "print('sent with declare')"
   ]
  },
  {
   "cell_type": "markdown",
   "id": "75489ebc",
   "metadata": {},
   "source": [
    "## 异步迭代（逐条消费）\n",
    "如果你需要连续地消费队列中的消息，可以使用 `iterate` 返回的异步生成器。下面示例演示如何用 `async for` 拉取若干条消息，然后退出并清理。"
   ]
  },
  {
   "cell_type": "code",
   "execution_count": 2,
   "id": "5e2ae7eb",
   "metadata": {},
   "outputs": [
    {
     "name": "stdout",
     "output_type": "stream",
     "text": [
      "produced 2 messages\n",
      "iter got -> body={'n': 1} headers={} properties={'delivery_mode': 2, 'delivery_info': {'exchange': 'astrbot', 'routing_key': 'demo_test'}, 'priority': 0, 'body_encoding': 'base64', 'delivery_tag': '6a0c9330-d15b-4ced-8591-db07f72d8d8c'} delivery_info={'exchange': 'astrbot', 'routing_key': 'demo_test'}\n",
      "iter got -> body={'n': 2} headers={} properties={'delivery_mode': 2, 'delivery_info': {'exchange': 'astrbot', 'routing_key': 'demo_test'}, 'priority': 0, 'body_encoding': 'base64', 'delivery_tag': 'daa08c6b-a8c6-4186-961b-57b4ffa0739d'} delivery_info={'exchange': 'astrbot', 'routing_key': 'demo_test'}\n",
      "iteration done, processed 2\n"
     ]
    }
   ],
   "source": [
    "# 4) 异步迭代示例：发两条消息，然后用 iterate 读取两条\n",
    "async def produce_two():\n",
    "    await bus.async_send({'n': 1}, exchange=bus.exchange, routing_key='demo_test', declare=[q])\n",
    "    await bus.async_send({'n': 2}, exchange=bus.exchange, routing_key='demo_test', declare=[q])\n",
    "    print('produced 2 messages')\n",
    "\n",
    "await produce_two()\n",
    "\n",
    "# 迭代并处理两条消息（短超时以防无限等待）\n",
    "count = 0\n",
    "async for msg in bus.iterate('demo_test', timeout=2.0):\n",
    "    print('iter got ->', msg)\n",
    "    count += 1\n",
    "    if count >= 2:\n",
    "        break\n",
    "\n",
    "print('iteration done, processed', count)"
   ]
  },
  {
   "cell_type": "markdown",
   "id": "4acef538",
   "metadata": {},
   "source": [
    "## 清理资源\n",
    "示例结束后，调用 `resetBus()` 释放单例并关闭底层连接。"
   ]
  },
  {
   "cell_type": "code",
   "execution_count": 3,
   "id": "fcaed0dc",
   "metadata": {},
   "outputs": [
    {
     "name": "stdout",
     "output_type": "stream",
     "text": [
      "bus reset\n"
     ]
    }
   ],
   "source": [
    "# 5) 清理\n",
    "AstrbotMessageBus.resetBus()\n",
    "print('bus reset')"
   ]
  }
 ],
 "metadata": {
  "kernelspec": {
   "display_name": "astrbot-canary (3.13.8)",
   "language": "python",
   "name": "python3"
  },
  "language_info": {
   "codemirror_mode": {
    "name": "ipython",
    "version": 3
   },
   "file_extension": ".py",
   "mimetype": "text/x-python",
   "name": "python",
   "nbconvert_exporter": "python",
   "pygments_lexer": "ipython3",
   "version": "3.13.8"
  }
 },
 "nbformat": 4,
 "nbformat_minor": 5
}
