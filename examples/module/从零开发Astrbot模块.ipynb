{
 "cells": [
  {
   "cell_type": "markdown",
   "id": "b8858615",
   "metadata": {},
   "source": [
    "# Astrbot Module\n",
    "> Astrbot Module是Astrbot运行的基本组件\n",
    "\n",
    ">    区别于 Astrbot Plugin的概念\n",
    ">    Astrbot Plugin由 loader模块加载\n",
    "\n",
    "首先新建一个现代的python项目\n",
    "\n",
    "这里使用uv进行演示：\n",
    "    uv init astrbot_module_name --lib (--lib/--app的区别请见：https://uv.doczh.com/concepts/projects/init/)\n",
    "\n",
    "# 命名\n",
    "> astrbot_canary_core\n",
    "\n",
    "> astrbot_canary_loader\n",
    "\n",
    "> astrbot_canary_web\n",
    "\n",
    "> astrbot_canary_tui\n",
    "\n",
    "> astrbot_canary_api\n",
    "\n",
    "比如说要重构一个基于Robyn的web模块\n",
    "\n",
    "> astrbot_canary_web_robyn\n",
    "\n",
    "\n",
    "\n",
    "# \n"
   ]
  },
  {
   "cell_type": "code",
   "execution_count": null,
   "id": "c6179a76",
   "metadata": {},
   "outputs": [],
   "source": [
    "# 首先导入模块级API\n",
    "from astrbot_canary_api.decorators import AstrbotModule\n",
    "from astrbot_canary_api import AstrbotModuleType, moduleimpl # plugin插件的hook实现\n",
    "\n",
    "\n",
    "# 定义你的模块\n",
    "@AstrbotModule(\"astrbot_test_module\",name=\"test_module\",module_type=AstrbotModuleType.WEB)\n",
    "class AstrbotTestModule:\n",
    "\n",
    "    @classmethod # 类方法装饰一定要在@moduleimpl上面\n",
    "    @moduleimpl\n",
    "    def Awake(cls):\n",
    "        ...\n",
    "\n",
    "    @classmethod\n",
    "    @moduleimpl\n",
    "    def Start(cls):\n",
    "        ...\n",
    "    @classmethod\n",
    "    @moduleimpl\n",
    "    def OnDestroy(cls):\n",
    "        ...\n",
    "\n"
   ]
  },
  {
   "cell_type": "markdown",
   "id": "3a360850",
   "metadata": {},
   "source": [
    "# 模块初始化\n",
    "初始化会调用Awake方法\n"
   ]
  }
 ],
 "metadata": {
  "kernelspec": {
   "display_name": "astrbot-canary (3.13.8)",
   "language": "python",
   "name": "python3"
  },
  "language_info": {
   "name": "python",
   "version": "3.13.8"
  }
 },
 "nbformat": 4,
 "nbformat_minor": 5
}
