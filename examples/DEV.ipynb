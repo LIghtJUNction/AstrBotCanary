{
 "cells": [
  {
   "cell_type": "markdown",
   "id": "f775d021",
   "metadata": {},
   "source": [
    "# AstrbotTasks\n",
    "- Taskiq再封装测试\n",
    "\n",
    "首先要特别注意：\n",
    "    InmemoryBroker比broker标准多几个方法，并且不可监听！\n"
   ]
  },
  {
   "cell_type": "code",
   "execution_count": 26,
   "id": "8470a55a",
   "metadata": {},
   "outputs": [],
   "source": [
    "from taskiq import InMemoryBroker\n",
    "\n",
    "# 基本任务分发代理\n",
    "broker = InMemoryBroker()\n"
   ]
  },
  {
   "cell_type": "markdown",
   "id": "1d2d3224",
   "metadata": {},
   "source": [
    "# InmemoryResultBackend\n",
    "- 作用：用于 InMemoryBroker 的结果存储，所有结果都保存在内存的有序字典中。\n",
    "- 最大存储数：默认最多保存 100 条结果（可通过 max_stored_results 参数调整，-1 表示无限制）。\n",
    "## 主要属性：\n",
    "- results：保存任务结果的 OrderedDict，key 为 task_id。\n",
    "- progress：保存任务进度的 OrderedDict，key 为 task_id。\n",
    "## 核心方法：\n",
    "- set_result(task_id, result)：保存任务结果，超出最大数量时自动移除最早的结果。\n",
    "- is_result_ready(task_id)：检查指定任务结果是否已就绪。\n",
    "- get_result(task_id)：获取指定任务的结果，不存在则抛异常。\n",
    "- set_progress(task_id, progress)：保存任务进度，超出最大数量时自动移除最早的进度。\n",
    "- get_progress(task_id)：获取指定任务的进度，若无则返回 None。\n",
    "# InMemoryBroker\n",
    "## 作用：本地开发用的内存型任务分发代理，不依赖外部消息队列。\n",
    "## 主要参数：\n",
    "- sync_tasks_pool_size：同步任务线程池大小，默认 4。\n",
    "- max_stored_results：最大结果存储数，默认 100。\n",
    "- max_async_tasks：最大异步任务数，默认 30。\n",
    "- await_inplace：是否在 kick 时直接 await 任务。\n",
    "## 核心属性：\n",
    "- result_backend：结果后端，使用 InmemoryResultBackend。\n",
    "- executor：线程池执行器。\n",
    "- receiver：任务接收器，负责参数校验和任务调度。\n",
    "- _running_tasks：当前正在运行的异步任务集合。\n",
    "## 核心方法：\n",
    "- kick(message)：执行指定任务，支持 await_inplace 或异步调度。\n",
    "- listen()：不支持监听，调用会抛出 RuntimeError。<span style=\"color:red\">(特别注意！其他broker都行！)</span>\n",
    "- wait_all()：等待所有正在运行的任务完成，常用于测试场景。<span style=\"color:red\">（特！别！注！意！其他！broker!没!）</span>\n",
    "- startup() / shutdown()：分别触发启动和关闭事件，管理生命周期。"
   ]
  },
  {
   "cell_type": "code",
   "execution_count": 27,
   "id": "a6b0f8fe",
   "metadata": {},
   "outputs": [],
   "source": [
    "\n",
    "# 定义任务\n",
    "\n",
    "@broker.task(\"sample_task\", a=\"label_a\", b=\"label_b\")\n",
    "async def sample_task(x: int, y: int) -> int:\n",
    "    return x + y\n"
   ]
  },
  {
   "cell_type": "markdown",
   "id": "acd3e09e",
   "metadata": {},
   "source": [
    "# 下面假设在另一个文件发送（不！可！以！直接导入任务！）\n",
    "- 可以通过事件调度（内置事件）\n",
    "- 可以通过任务名调度"
   ]
  },
  {
   "cell_type": "code",
   "execution_count": null,
   "id": "5a8b30b0",
   "metadata": {},
   "outputs": [
    {
     "name": "stdout",
     "output_type": "stream",
     "text": [
      "Broker is starting up...\n",
      "Client is starting up 2...\n",
      "Broker is shutting down...\n",
      "Task result: is_err=False log=None return_value=3 execution_time=0.0 labels={'a': 'label_a', 'b': 'label_b'} error=None\n",
      "Task result: 3\n"
     ]
    }
   ],
   "source": [
    "\n",
    "from typing import Any\n",
    "from taskiq import AsyncTaskiqDecoratedTask, AsyncTaskiqTask, TaskiqEvents, TaskiqResult, TaskiqState\n",
    "\n",
    "\n",
    "@broker.on_event(TaskiqEvents.CLIENT_STARTUP)\n",
    "async def on_startup(state: TaskiqState):\n",
    "    print(\"Broker is starting up...\")\n",
    "\n",
    "@broker.on_event(TaskiqEvents.CLIENT_STARTUP)\n",
    "async def on_client_startup(state: TaskiqState):\n",
    "    print(\"Client is starting up 2...\")\n",
    "\n",
    "@broker.on_event(TaskiqEvents.WORKER_SHUTDOWN)\n",
    "async def on_shutdown(state: TaskiqState):\n",
    "    print(\"Broker is shutting down...\")\n",
    "\n",
    "\n",
    "await broker.startup()\n",
    "\n",
    "await broker.shutdown()\n",
    "\n",
    "st: AsyncTaskiqDecoratedTask[Any, Any] | None = broker.find_task(\"sample_task\")\n",
    "if st is None:\n",
    "    raise ValueError(\"Task not found\")\n",
    "await st.kiq(x=1, y=2)\n",
    "task: AsyncTaskiqTask[Any] = await st.kiq(x=1, y=2)\n",
    "result: TaskiqResult[Any] = await task.wait_result()\n",
    "\n",
    "print(f\"Task result: {result}\")  # 输出: Task result: \n",
    "print(f\"Task result: {result.return_value}\")  # 输出: 3\n",
    "\n"
   ]
  }
 ],
 "metadata": {
  "kernelspec": {
   "display_name": "astrbot-canary (3.13.8)",
   "language": "python",
   "name": "python3"
  },
  "language_info": {
   "codemirror_mode": {
    "name": "ipython",
    "version": 3
   },
   "file_extension": ".py",
   "mimetype": "text/x-python",
   "name": "python",
   "nbconvert_exporter": "python",
   "pygments_lexer": "ipython3",
   "version": "3.13.8"
  }
 },
 "nbformat": 4,
 "nbformat_minor": 5
}
