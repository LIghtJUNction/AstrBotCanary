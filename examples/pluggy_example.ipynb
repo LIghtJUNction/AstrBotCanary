{
 "cells": [
  {
   "cell_type": "markdown",
   "id": "211224a8",
   "metadata": {},
   "source": [
    "---\n",
    "\n",
    "## Pluggy 专门示例（演示 HookSpec / HookImpl / PluginManager）\n",
    "\n",
    "下面是最小可运行的 pluggy 示例：定义 hookspec、两个插件实现，注册并调用 hook。"
   ]
  },
  {
   "cell_type": "code",
   "execution_count": null,
   "id": "8e69685a",
   "metadata": {},
   "outputs": [],
   "source": [
    "import pluggy\n",
    "\n",
    "HOOK_NAMESPACE = 'astrbot_canary'\n",
    "pm = pluggy.PluginManager(HOOK_NAMESPACE)\n",
    "\n",
    "# 定义 hookspec\n",
    "class Spec:\n",
    "    @pluggy.HookspecMarker(HOOK_NAMESPACE)\n",
    "    def greet(self, name: str) -> str:\n",
    "        \"\"\"返回一段问候语\"\"\"\n",
    "\n",
    "# 插件实现\n",
    "class PluginA:\n",
    "    @pluggy.HookimplMarker(HOOK_NAMESPACE)\n",
    "    def greet(self, name: str) -> str:\n",
    "        return f'PluginA: Hello, {name}!'\n",
    "\n",
    "class PluginB:\n",
    "    @pluggy.HookimplMarker(HOOK_NAMESPACE)\n",
    "    def greet(self, name: str) -> str:\n",
    "        return f'PluginB: Hi there, {name}!'\n",
    "\n",
    "# 注册并调用\n",
    "pm.add_hookspecs(Spec)\n",
    "pm.register(PluginA())\n",
    "pm.register(PluginB())\n",
    "\n",
    "print('pluggy version:', pluggy.__version__)\n",
    "print('\\ngreet results:')\n",
    "for r in pm.hook.greet(name='Alice'):\n",
    "    print(' ', r)\n",
    "\n",
    "# 取第一个非 None 返回值（兼容各种 pluggy 版本）\n",
    "results_bob = pm.hook.greet(name='Bob')\n",
    "first = next((r for r in results_bob if r is not None), None)\n",
    "print('\\nfirst_result:', first)"
   ]
  }
 ],
 "metadata": {
  "kernelspec": {
   "display_name": "astrbot-canary (3.13.8)",
   "language": "python",
   "name": "python3"
  },
  "language_info": {
   "name": "python",
   "version": "3.13.8"
  }
 },
 "nbformat": 4,
 "nbformat_minor": 5
}
