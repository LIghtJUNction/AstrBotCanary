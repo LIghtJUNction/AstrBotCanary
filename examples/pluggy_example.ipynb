{
 "cells": [
  {
   "cell_type": "markdown",
   "id": "a8a082e5",
   "metadata": {},
   "source": [
    "# Pluggy 使用示例（Jupyter 笔记本）\n",
    "\n",
    "本笔记本演示如何使用 pluggy（hookspec + hookimpl + PluginManager），并同时包含基础 Python、数值计算、绘图、单元测试与在 VS Code 中运行/调试的示例。打开后可以逐单元运行（推荐在项目虚拟环境中运行）。\n",
    "\n",
    "要点：\n",
    "- HookSpec：定义 hook 接口（使用 @pluggy.HookspecMarker）\n",
    "- HookImpl：插件实现（使用 @pluggy.HookimplMarker）\n",
    "- PluginManager：注册 hook 规范与插件，调用 pm.hook.<name>。\n",
    "\n",
    "下面各章节会逐步展示环境、基础语法、测试、绘图与 pluggy 示例。"
   ]
  },
  {
   "cell_type": "markdown",
   "id": "7cfa4214",
   "metadata": {},
   "source": [
    "## 1. 导入与环境设置\n",
    "\n",
    "本节演示如何安装/导入本笔记本需要的库，并说明在 VS Code 中选择 Python kernel 的方法。建议使用项目的虚拟环境（例如 `.venv`）。\n",
    "\n",
    "下面的代码单元会尝试使用 `%pip` 安装必要依赖（只在需要时安装）。如果你在受限环境中，请在终端手动安装。"
   ]
  },
  {
   "cell_type": "code",
   "execution_count": null,
   "id": "bb7c6437",
   "metadata": {},
   "outputs": [],
   "source": [
    "# 安装依赖（可在笔记本中直接运行）\n",
    "# 建议在虚拟环境中运行；如果已安装这些包，这条命令会跳过\n",
    "%pip install -q pluggy numpy pandas matplotlib sympy pytest\n",
    "\n",
    "import sys\n",
    "import pluggy\n",
    "print('Python:', sys.version.splitlines()[0])\n",
    "print('Pluggy:', pluggy.__version__)"
   ]
  },
  {
   "cell_type": "markdown",
   "id": "5415438a",
   "metadata": {},
   "source": [
    "## 2. Python 基本语法示例（变量、列表、循环、条件）\n",
    "\n",
    "下面给出若干简短示例，便于在输出窗格中查看结果。"
   ]
  },
  {
   "cell_type": "code",
   "execution_count": null,
   "id": "9bf82563",
   "metadata": {},
   "outputs": [],
   "source": [
    "# 变量、列表、循环、条件\n",
    "x = 10\n",
    "squares = [i*i for i in range(5)]\n",
    "print('x =', x)\n",
    "print('squares =', squares)\n",
    "\n",
    "for i in range(3):\n",
    "    if i % 2 == 0:\n",
    "        print(i, 'even')\n",
    "    else:\n",
    "        print(i, 'odd')\n",
    "\n",
    "# 捕获常见错误示例\n",
    "try:\n",
    "    a = 1 / 0\n",
    "except ZeroDivisionError as exc:\n",
    "    print('捕获到错误：', exc)"
   ]
  },
  {
   "cell_type": "markdown",
   "id": "3ea3a6c3",
   "metadata": {},
   "source": [
    "## 3. 函数与单元测试（定义、注释、pytest）\n",
    "\n",
    "示例定义函数并使用简单断言作为测试示例。也会说明如何在 VS Code 中运行 pytest。"
   ]
  },
  {
   "cell_type": "code",
   "execution_count": null,
   "id": "d77a518f",
   "metadata": {},
   "outputs": [],
   "source": [
    "# 定义函数（阶乘）并通过断言测试\n",
    "\n",
    "def factorial(n: int) -> int:\n",
    "    \"\"\"计算 n 的阶乘（仅接受非负整数）\"\"\"\n",
    "    if n < 0:\n",
    "        raise ValueError('n must be >= 0')\n",
    "    res = 1\n",
    "    for i in range(2, n+1):\n",
    "        res *= i\n",
    "    return res\n",
    "\n",
    "# 简单断言测试（在 notebook 中演示）\n",
    "assert factorial(0) == 1\n",
    "assert factorial(5) == 120\n",
    "print('factorial 测试通过')\n",
    "\n",
    "# 在项目中使用 pytest：把测试放在 tests/ 目录，运行 `pytest -q` 或在 VS Code 的测试面板运行。"
   ]
  },
  {
   "cell_type": "markdown",
   "id": "a93a2e60",
   "metadata": {},
   "source": [
    "## 4. 数值计算与绘图（NumPy、Matplotlib）\n",
    "\n",
    "生成带噪声的线性数据，拟合并绘制散点图与拟合直线。"
   ]
  },
  {
   "cell_type": "code",
   "execution_count": null,
   "id": "d98e64e8",
   "metadata": {},
   "outputs": [],
   "source": [
    "%matplotlib inline\n",
    "import numpy as np\n",
    "import matplotlib.pyplot as plt\n",
    "\n",
    "# 生成数据\n",
    "rng = np.random.default_rng(42)\n",
    "x = np.linspace(0, 10, 50)\n",
    "a, b = 2.5, 1.0\n",
    "noise = rng.normal(scale=2.0, size=x.shape)\n",
    "y = a * x + b + noise\n",
    "\n",
    "# 简单线性拟合（最小二乘）\n",
    "coeffs = np.polyfit(x, y, 1)\n",
    "poly = np.poly1d(coeffs)\n",
    "\n",
    "plt.scatter(x, y, label='data')\n",
    "plt.plot(x, poly(x), color='red', label=f'fit: y={coeffs[0]:.2f}x+{coeffs[1]:.2f}')\n",
    "plt.legend()\n",
    "plt.title('线性拟合示例')\n",
    "plt.show()"
   ]
  },
  {
   "cell_type": "markdown",
   "id": "c2c6a065",
   "metadata": {},
   "source": [
    "## 5. 数据处理示例（Pandas：读取 CSV、清洗、分组聚合）\n",
    "\n",
    "使用内置的 CSV 示例，展示读取、处理缺失值、按列分组并聚合。"
   ]
  },
  {
   "cell_type": "code",
   "execution_count": null,
   "id": "3c01126a",
   "metadata": {},
   "outputs": [],
   "source": [
    "import pandas as pd\n",
    "from io import StringIO\n",
    "\n",
    "csv = StringIO('''category,value\n",
    "A,10\n",
    "B,20\n",
    "A,15\n",
    "B,\n",
    "C,5\n",
    "''')\n",
    "df = pd.read_csv(csv)\n",
    "print('原始数据:')\n",
    "print(df)\n",
    "\n",
    "# 清洗：填充缺失值\n",
    "df['value'] = pd.to_numeric(df['value'], errors='coerce')\n",
    "df['value'] = df['value'].fillna(0)\n",
    "print('\\n清洗后:')\n",
    "print(df)\n",
    "\n",
    "print('\\n按 category 聚合:')\n",
    "print(df.groupby('category', as_index=False).agg({'value':'sum'}))"
   ]
  },
  {
   "cell_type": "markdown",
   "id": "b5d7dcfd",
   "metadata": {},
   "source": [
    "## 6. 符号计算与数学展示（SymPy）\n",
    "\n",
    "演示符号微积分并在笔记本中以 LaTeX 的形式显示结果，例如计算 $$\\int_0^1 x^2\\,dx=\\tfrac{1}{3}$$。"
   ]
  },
  {
   "cell_type": "code",
   "execution_count": null,
   "id": "fa5a68f1",
   "metadata": {},
   "outputs": [],
   "source": [
    "import sympy as sp\n",
    "from IPython.display import display, Math\n",
    "\n",
    "x = sp.symbols('x')\n",
    "expr = x**2\n",
    "res = sp.integrate(expr, (x, 0, 1))\n",
    "print('积分结果（SymPy 对象）:', res)\n",
    "# 以 LaTeX 显示\n",
    "display(Math(r\"\\int_0^1 x^2\\,dx=\\frac{1}{3} = %s\" % sp.latex(res)))"
   ]
  },
  {
   "cell_type": "markdown",
   "id": "ad0b83b8",
   "metadata": {},
   "source": [
    "## 7. 在 VS Code 中运行与调试\n",
    "\n",
    "- 在 VS Code 中选择解释器（右下角或命令面板：Python: Select Interpreter），选择项目虚拟环境。\n",
    "- 逐单元运行：点击每个单元左侧的运行按钮或使用上方运行命令。\n",
    "- 在集成终端运行：`python examples/pluggy_example.py`。\n",
    "- 调试：可以把关键函数提取到 .py 文件，设置断点并使用 Run > Start Debugging（或在调试面板）。\n",
    "\n",
    "笔记本中也可使用 `%debug` 在异常后进入交互调试（仅限 IPython）。"
   ]
  },
  {
   "cell_type": "markdown",
   "id": "498881e4",
   "metadata": {},
   "source": [
    "## 8. 导出与版本控制\n",
    "\n",
    "- 导出为 Python 脚本：在命令面板选择 \"Export As\" 或使用 `jupyter nbconvert --to script examples/pluggy_example.ipynb`。\n",
    "- 导出为 HTML：`jupyter nbconvert --to html examples/pluggy_example.ipynb`。\n",
    "- 将生成文件加入 git：\n",
    "\n",
    "```bash\n",
    "git add examples/pluggy_example.ipynb\n",
    "git add examples/pluggy_example.py  # 如果导出为脚本\n",
    "git commit -m \"Add pluggy example notebook\"\n",
    "git push\n",
    "```\n",
    "\n",
    "建议添加 `.gitignore` 忽略 large outputs 和虚拟环境（例如 `.venv/`）。"
   ]
  },
  {
   "cell_type": "markdown",
   "id": "211224a8",
   "metadata": {},
   "source": [
    "---\n",
    "\n",
    "## Pluggy 专门示例（演示 HookSpec / HookImpl / PluginManager）\n",
    "\n",
    "下面是最小可运行的 pluggy 示例：定义 hookspec、两个插件实现，注册并调用 hook。"
   ]
  },
  {
   "cell_type": "code",
   "execution_count": null,
   "id": "8e69685a",
   "metadata": {},
   "outputs": [],
   "source": [
    "import pluggy\n",
    "\n",
    "HOOK_NAMESPACE = 'astrbot_canary'\n",
    "pm = pluggy.PluginManager(HOOK_NAMESPACE)\n",
    "\n",
    "# 定义 hookspec\n",
    "class Spec:\n",
    "    @pluggy.HookspecMarker(HOOK_NAMESPACE)\n",
    "    def greet(self, name: str) -> str:\n",
    "        \"\"\"返回一段问候语\"\"\"\n",
    "\n",
    "# 插件实现\n",
    "class PluginA:\n",
    "    @pluggy.HookimplMarker(HOOK_NAMESPACE)\n",
    "    def greet(self, name: str) -> str:\n",
    "        return f'PluginA: Hello, {name}!'\n",
    "\n",
    "class PluginB:\n",
    "    @pluggy.HookimplMarker(HOOK_NAMESPACE)\n",
    "    def greet(self, name: str) -> str:\n",
    "        return f'PluginB: Hi there, {name}!'\n",
    "\n",
    "# 注册并调用\n",
    "pm.add_hookspecs(Spec)\n",
    "pm.register(PluginA())\n",
    "pm.register(PluginB())\n",
    "\n",
    "print('pluggy version:', pluggy.__version__)\n",
    "print('\\ngreet results:')\n",
    "for r in pm.hook.greet(name='Alice'):\n",
    "    print(' ', r)\n",
    "\n",
    "# 取第一个非 None 返回值（兼容各种 pluggy 版本）\n",
    "results_bob = pm.hook.greet(name='Bob')\n",
    "first = next((r for r in results_bob if r is not None), None)\n",
    "print('\\nfirst_result:', first)"
   ]
  }
 ],
 "metadata": {
  "kernelspec": {
   "display_name": "astrbot-canary (3.14.0)",
   "language": "python",
   "name": "python3"
  },
  "language_info": {
   "name": "python",
   "version": "3.14.0"
  }
 },
 "nbformat": 4,
 "nbformat_minor": 5
}
