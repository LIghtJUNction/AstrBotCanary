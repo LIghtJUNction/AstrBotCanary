{
 "cells": [
  {
   "cell_type": "code",
   "execution_count": 1,
   "id": "347c248c",
   "metadata": {},
   "outputs": [
    {
     "name": "stdout",
     "output_type": "stream",
     "text": [
      "c:\\Users\\light\\Documents\\GitHub\\AstrBotCanary\\astrbot_paths\\example\\.astrbot\n",
      "c:\\Users\\light\\Documents\\GitHub\\AstrBotCanary\\astrbot_paths\\example\\.astrbot\\config\\test-module\n"
     ]
    }
   ],
   "source": [
    "from astrbot_paths import AstrbotPaths\n",
    "\n",
    "print(AstrbotPaths.astrbot_root)\n",
    "\n",
    "print(AstrbotPaths.getPaths(\"test_module\").config)\n",
    "\n"
   ]
  }
 ],
 "metadata": {
  "kernelspec": {
   "display_name": "astrbot-canary (3.13.8)",
   "language": "python",
   "name": "python3"
  },
  "language_info": {
   "codemirror_mode": {
    "name": "ipython",
    "version": 3
   },
   "file_extension": ".py",
   "mimetype": "text/x-python",
   "name": "python",
   "nbconvert_exporter": "python",
   "pygments_lexer": "ipython3",
   "version": "3.13.8"
  }
 },
 "nbformat": 4,
 "nbformat_minor": 5
}
